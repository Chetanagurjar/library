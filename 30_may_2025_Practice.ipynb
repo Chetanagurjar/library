{
 "cells": [
  {
   "cell_type": "code",
   "execution_count": 4,
   "id": "db630929",
   "metadata": {},
   "outputs": [],
   "source": [
    "import numpy as np"
   ]
  },
  {
   "cell_type": "markdown",
   "id": "9b86fc26",
   "metadata": {},
   "source": [
    "# Create Function in numpy"
   ]
  },
  {
   "cell_type": "code",
   "execution_count": 5,
   "id": "05300616",
   "metadata": {},
   "outputs": [],
   "source": [
    "def sigmoid_fn(array):\n",
    "      return 1+(1+np.exp(-(array)))"
   ]
  },
  {
   "cell_type": "code",
   "execution_count": 6,
   "id": "652bd775",
   "metadata": {},
   "outputs": [
    {
     "data": {
      "text/plain": [
       "array([0, 1, 2, 3, 4, 5, 6, 7, 8, 9])"
      ]
     },
     "execution_count": 6,
     "metadata": {},
     "output_type": "execute_result"
    }
   ],
   "source": [
    "a=np.arange(10)\n",
    "a"
   ]
  },
  {
   "cell_type": "code",
   "execution_count": 7,
   "id": "51459042",
   "metadata": {},
   "outputs": [
    {
     "data": {
      "text/plain": [
       "array([3.        , 2.36787944, 2.13533528, 2.04978707, 2.01831564,\n",
       "       2.00673795, 2.00247875, 2.00091188, 2.00033546, 2.00012341])"
      ]
     },
     "execution_count": 7,
     "metadata": {},
     "output_type": "execute_result"
    }
   ],
   "source": [
    "sigmoid_fn(a)"
   ]
  },
  {
   "cell_type": "code",
   "execution_count": 8,
   "id": "02f9f550",
   "metadata": {},
   "outputs": [],
   "source": [
    "def si(p,r,t):\n",
    "    return (p*r*t)/100\n"
   ]
  },
  {
   "cell_type": "code",
   "execution_count": 9,
   "id": "8da5fb24",
   "metadata": {},
   "outputs": [
    {
     "data": {
      "text/plain": [
       "100.0"
      ]
     },
     "execution_count": 9,
     "metadata": {},
     "output_type": "execute_result"
    }
   ],
   "source": [
    "si(1000,10,1)"
   ]
  },
  {
   "cell_type": "code",
   "execution_count": 10,
   "id": "fd4cf7bf",
   "metadata": {},
   "outputs": [
    {
     "data": {
      "text/plain": [
       "array([48, 13,  8,  8, 33, 20, 23, 45, 21,  6])"
      ]
     },
     "execution_count": 10,
     "metadata": {},
     "output_type": "execute_result"
    }
   ],
   "source": [
    "a=np.random.randint(1,50,10)\n",
    "a"
   ]
  },
  {
   "cell_type": "markdown",
   "id": "a36f1997",
   "metadata": {},
   "source": [
    "# Sort():-"
   ]
  },
  {
   "cell_type": "code",
   "execution_count": 11,
   "id": "db3fd724",
   "metadata": {},
   "outputs": [
    {
     "data": {
      "text/plain": [
       "array([ 6,  8,  8, 13, 20, 21, 23, 33, 45, 48])"
      ]
     },
     "execution_count": 11,
     "metadata": {},
     "output_type": "execute_result"
    }
   ],
   "source": [
    "np.sort(a)"
   ]
  },
  {
   "cell_type": "raw",
   "id": "fc36912b",
   "metadata": {},
   "source": [
    "Decending sort:-"
   ]
  },
  {
   "cell_type": "code",
   "execution_count": 12,
   "id": "2af72cef",
   "metadata": {},
   "outputs": [
    {
     "data": {
      "text/plain": [
       "array([48, 45, 33, 23, 21, 20, 13,  8,  8,  6])"
      ]
     },
     "execution_count": 12,
     "metadata": {},
     "output_type": "execute_result"
    }
   ],
   "source": [
    "np.sort(a)[::-1]\n"
   ]
  },
  {
   "cell_type": "code",
   "execution_count": 13,
   "id": "2dd1de96",
   "metadata": {},
   "outputs": [
    {
     "data": {
      "text/plain": [
       "array([[92, 68,  7, 58, 53, 94, 46],\n",
       "       [66, 42, 80, 15, 40, 26, 61],\n",
       "       [14, 28, 31, 65, 48, 82, 85],\n",
       "       [49, 65, 30, 68, 97,  9, 37],\n",
       "       [56,  5, 91, 96, 96, 97,  1]])"
      ]
     },
     "execution_count": 13,
     "metadata": {},
     "output_type": "execute_result"
    }
   ],
   "source": [
    "b=np.random.randint(1,100,35).reshape(5,7)\n",
    "b"
   ]
  },
  {
   "cell_type": "code",
   "execution_count": 17,
   "id": "40201257",
   "metadata": {},
   "outputs": [
    {
     "data": {
      "text/plain": [
       "array([[10, 19, 19, 29, 36, 67, 84],\n",
       "       [ 5, 25, 26, 64, 65, 79, 90],\n",
       "       [12, 15, 32, 40, 44, 71, 87],\n",
       "       [12, 30, 55, 56, 59, 62, 86],\n",
       "       [ 1, 14, 38, 55, 62, 92, 93]])"
      ]
     },
     "execution_count": 17,
     "metadata": {},
     "output_type": "execute_result"
    }
   ],
   "source": [
    "np.sort(b)"
   ]
  },
  {
   "cell_type": "code",
   "execution_count": 18,
   "id": "52a51672",
   "metadata": {},
   "outputs": [
    {
     "data": {
      "text/plain": [
       "array([[15, 10, 12, 14, 12,  1, 25],\n",
       "       [19, 26, 19, 55, 29,  5, 40],\n",
       "       [30, 44, 62, 64, 62, 32, 55],\n",
       "       [38, 86, 79, 71, 87, 36, 56],\n",
       "       [65, 93, 92, 84, 90, 59, 67]])"
      ]
     },
     "execution_count": 18,
     "metadata": {},
     "output_type": "execute_result"
    }
   ],
   "source": [
    "np.sort(b,axis=0)"
   ]
  },
  {
   "cell_type": "code",
   "execution_count": 19,
   "id": "ec9f6519",
   "metadata": {},
   "outputs": [
    {
     "data": {
      "text/plain": [
       "array([[10, 19, 19, 29, 36, 67, 84],\n",
       "       [ 5, 25, 26, 64, 65, 79, 90],\n",
       "       [12, 15, 32, 40, 44, 71, 87],\n",
       "       [12, 30, 55, 56, 59, 62, 86],\n",
       "       [ 1, 14, 38, 55, 62, 92, 93]])"
      ]
     },
     "execution_count": 19,
     "metadata": {},
     "output_type": "execute_result"
    }
   ],
   "source": [
    "np.sort(b,axis=1)"
   ]
  },
  {
   "cell_type": "code",
   "execution_count": 14,
   "id": "04f3e822",
   "metadata": {},
   "outputs": [
    {
     "data": {
      "text/plain": [
       "array([48, 13,  8,  8, 33, 20, 23, 45, 21,  6])"
      ]
     },
     "execution_count": 14,
     "metadata": {},
     "output_type": "execute_result"
    }
   ],
   "source": [
    "a"
   ]
  },
  {
   "cell_type": "markdown",
   "id": "db33f5aa",
   "metadata": {},
   "source": [
    "# Append():-"
   ]
  },
  {
   "cell_type": "code",
   "execution_count": 15,
   "id": "2b36b9c1",
   "metadata": {},
   "outputs": [
    {
     "data": {
      "text/plain": [
       "array([48, 13,  8,  8, 33, 20, 23, 45, 21,  6, 50])"
      ]
     },
     "execution_count": 15,
     "metadata": {},
     "output_type": "execute_result"
    }
   ],
   "source": [
    "np.append(a,50)"
   ]
  },
  {
   "cell_type": "code",
   "execution_count": 19,
   "id": "103fc724",
   "metadata": {},
   "outputs": [
    {
     "data": {
      "text/plain": [
       "array([ 48,  13,   8,   8, 100,  20,  23,  45,  21,   6])"
      ]
     },
     "execution_count": 19,
     "metadata": {},
     "output_type": "execute_result"
    }
   ],
   "source": [
    "a[3]=8\n",
    "a"
   ]
  },
  {
   "cell_type": "markdown",
   "id": "04cca6b5",
   "metadata": {},
   "source": [
    "# Concatenate():-"
   ]
  },
  {
   "cell_type": "code",
   "execution_count": 20,
   "id": "6fc4ed9f",
   "metadata": {},
   "outputs": [
    {
     "data": {
      "text/plain": [
       "array([[0, 1, 2],\n",
       "       [3, 4, 5]])"
      ]
     },
     "execution_count": 20,
     "metadata": {},
     "output_type": "execute_result"
    }
   ],
   "source": [
    "x=np.arange(6).reshape(2,3)\n",
    "x"
   ]
  },
  {
   "cell_type": "code",
   "execution_count": 21,
   "id": "153a1882",
   "metadata": {},
   "outputs": [
    {
     "data": {
      "text/plain": [
       "array([[ 6,  7,  8],\n",
       "       [ 9, 10, 11]])"
      ]
     },
     "execution_count": 21,
     "metadata": {},
     "output_type": "execute_result"
    }
   ],
   "source": [
    "y=np.arange(6,12).reshape(2,3)\n",
    "y"
   ]
  },
  {
   "cell_type": "code",
   "execution_count": 22,
   "id": "6a3b040e",
   "metadata": {},
   "outputs": [
    {
     "data": {
      "text/plain": [
       "array([[ 0,  1,  2],\n",
       "       [ 3,  4,  5],\n",
       "       [ 6,  7,  8],\n",
       "       [ 9, 10, 11]])"
      ]
     },
     "execution_count": 22,
     "metadata": {},
     "output_type": "execute_result"
    }
   ],
   "source": [
    "np.concatenate((x,y))\n"
   ]
  },
  {
   "cell_type": "code",
   "execution_count": null,
   "id": "50786339",
   "metadata": {},
   "outputs": [],
   "source": [
    "np"
   ]
  }
 ],
 "metadata": {
  "kernelspec": {
   "display_name": "Python 3 (ipykernel)",
   "language": "python",
   "name": "python3"
  },
  "language_info": {
   "codemirror_mode": {
    "name": "ipython",
    "version": 3
   },
   "file_extension": ".py",
   "mimetype": "text/x-python",
   "name": "python",
   "nbconvert_exporter": "python",
   "pygments_lexer": "ipython3",
   "version": "3.9.13"
  }
 },
 "nbformat": 4,
 "nbformat_minor": 5
}
