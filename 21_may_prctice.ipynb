{
 "cells": [
  {
   "cell_type": "code",
   "execution_count": 1,
   "id": "b6390c10",
   "metadata": {},
   "outputs": [],
   "source": [
    "import numpy as np"
   ]
  },
  {
   "cell_type": "code",
   "execution_count": 9,
   "id": "9249d109",
   "metadata": {},
   "outputs": [
    {
     "data": {
      "text/plain": [
       "array([[0, 1],\n",
       "       [2, 3],\n",
       "       [4, 5],\n",
       "       [6, 7],\n",
       "       [8, 9]])"
      ]
     },
     "execution_count": 9,
     "metadata": {},
     "output_type": "execute_result"
    }
   ],
   "source": [
    "a=np.arange(10).reshape(5,2)\n",
    "a"
   ]
  },
  {
   "cell_type": "code",
   "execution_count": 6,
   "id": "cef4224a",
   "metadata": {},
   "outputs": [
    {
     "data": {
      "text/plain": [
       "array([[ 0,  1,  2,  3],\n",
       "       [ 4,  5,  6,  7],\n",
       "       [ 8,  9, 10, 11]])"
      ]
     },
     "execution_count": 6,
     "metadata": {},
     "output_type": "execute_result"
    }
   ],
   "source": [
    "a1=np.arange(12).reshape(3,4)\n",
    "a1"
   ]
  },
  {
   "cell_type": "markdown",
   "id": "77c6be29",
   "metadata": {},
   "source": [
    "# ndim:-Array type (1d,2d)"
   ]
  },
  {
   "cell_type": "code",
   "execution_count": 7,
   "id": "d8c91fc6",
   "metadata": {},
   "outputs": [
    {
     "name": "stdout",
     "output_type": "stream",
     "text": [
      "1\n",
      "2\n"
     ]
    }
   ],
   "source": [
    "print(a.ndim)\n",
    "print(a1.ndim)"
   ]
  },
  {
   "cell_type": "markdown",
   "id": "ae4302bb",
   "metadata": {},
   "source": [
    "# Shape:- kintne by ka kitna hai"
   ]
  },
  {
   "cell_type": "code",
   "execution_count": 10,
   "id": "9da7dc61",
   "metadata": {},
   "outputs": [
    {
     "name": "stdout",
     "output_type": "stream",
     "text": [
      "(5, 2)\n",
      "(3, 4)\n"
     ]
    }
   ],
   "source": [
    "print(a.shape)\n",
    "print(a1.shape)"
   ]
  },
  {
   "cell_type": "markdown",
   "id": "eeb281e7",
   "metadata": {},
   "source": [
    "# Size:- Total number of array in present"
   ]
  },
  {
   "cell_type": "code",
   "execution_count": 11,
   "id": "9fb20588",
   "metadata": {},
   "outputs": [
    {
     "name": "stdout",
     "output_type": "stream",
     "text": [
      "10\n",
      "12\n"
     ]
    }
   ],
   "source": [
    "print(a.size)\n",
    "print(a1.size)"
   ]
  },
  {
   "cell_type": "markdown",
   "id": "9a16dc8e",
   "metadata": {},
   "source": [
    "# ItemSize:-size of each element in byte "
   ]
  },
  {
   "cell_type": "code",
   "execution_count": 12,
   "id": "985fad41",
   "metadata": {},
   "outputs": [
    {
     "name": "stdout",
     "output_type": "stream",
     "text": [
      "4\n",
      "4\n"
     ]
    }
   ],
   "source": [
    "print(a.itemsize)\n",
    "print(a1.itemsize)"
   ]
  },
  {
   "cell_type": "markdown",
   "id": "dcb2473b",
   "metadata": {},
   "source": [
    "# Dtype:-"
   ]
  },
  {
   "cell_type": "code",
   "execution_count": 13,
   "id": "8e6c1772",
   "metadata": {},
   "outputs": [
    {
     "name": "stdout",
     "output_type": "stream",
     "text": [
      "int32\n",
      "int32\n"
     ]
    }
   ],
   "source": [
    "print(a.dtype)\n",
    "print(a1.dtype)"
   ]
  },
  {
   "cell_type": "code",
   "execution_count": 14,
   "id": "ef85b070",
   "metadata": {},
   "outputs": [
    {
     "data": {
      "text/plain": [
       "array([[ 0,  1,  2,  3],\n",
       "       [ 4,  5,  6,  7],\n",
       "       [ 8,  9, 10, 11]])"
      ]
     },
     "execution_count": 14,
     "metadata": {},
     "output_type": "execute_result"
    }
   ],
   "source": [
    "x=np.arange(12).reshape(3,4)\n",
    "x"
   ]
  },
  {
   "cell_type": "code",
   "execution_count": 15,
   "id": "0b0e1e89",
   "metadata": {},
   "outputs": [
    {
     "data": {
      "text/plain": [
       "array([[12, 13, 14, 15],\n",
       "       [16, 17, 18, 19],\n",
       "       [20, 21, 22, 23]])"
      ]
     },
     "execution_count": 15,
     "metadata": {},
     "output_type": "execute_result"
    }
   ],
   "source": [
    "y=np.arange(12,24).reshape(3,4)\n",
    "y"
   ]
  },
  {
   "cell_type": "code",
   "execution_count": 16,
   "id": "17aa8d9a",
   "metadata": {},
   "outputs": [
    {
     "data": {
      "text/plain": [
       "array([[10, 11, 12, 13],\n",
       "       [14, 15, 16, 17],\n",
       "       [18, 19, 20, 21]])"
      ]
     },
     "execution_count": 16,
     "metadata": {},
     "output_type": "execute_result"
    }
   ],
   "source": [
    "x+10"
   ]
  },
  {
   "cell_type": "code",
   "execution_count": 17,
   "id": "94a742b2",
   "metadata": {},
   "outputs": [
    {
     "data": {
      "text/plain": [
       "array([[12, 14, 16, 18],\n",
       "       [20, 22, 24, 26],\n",
       "       [28, 30, 32, 34]])"
      ]
     },
     "execution_count": 17,
     "metadata": {},
     "output_type": "execute_result"
    }
   ],
   "source": [
    "x+y"
   ]
  },
  {
   "cell_type": "code",
   "execution_count": 18,
   "id": "c3428c34",
   "metadata": {},
   "outputs": [
    {
     "data": {
      "text/plain": [
       "array([[-12, -12, -12, -12],\n",
       "       [-12, -12, -12, -12],\n",
       "       [-12, -12, -12, -12]])"
      ]
     },
     "execution_count": 18,
     "metadata": {},
     "output_type": "execute_result"
    }
   ],
   "source": [
    "x-y"
   ]
  },
  {
   "cell_type": "code",
   "execution_count": 19,
   "id": "c10efe40",
   "metadata": {},
   "outputs": [
    {
     "data": {
      "text/plain": [
       "array([[  0,  13,  28,  45],\n",
       "       [ 64,  85, 108, 133],\n",
       "       [160, 189, 220, 253]])"
      ]
     },
     "execution_count": 19,
     "metadata": {},
     "output_type": "execute_result"
    }
   ],
   "source": [
    "x*y"
   ]
  },
  {
   "cell_type": "code",
   "execution_count": 21,
   "id": "502de019",
   "metadata": {},
   "outputs": [
    {
     "data": {
      "text/plain": [
       "array([[0.        , 0.07692308, 0.14285714, 0.2       ],\n",
       "       [0.25      , 0.29411765, 0.33333333, 0.36842105],\n",
       "       [0.4       , 0.42857143, 0.45454545, 0.47826087]])"
      ]
     },
     "execution_count": 21,
     "metadata": {},
     "output_type": "execute_result"
    }
   ],
   "source": [
    "x/y"
   ]
  },
  {
   "cell_type": "code",
   "execution_count": 22,
   "id": "b0729fa2",
   "metadata": {},
   "outputs": [
    {
     "data": {
      "text/plain": [
       "array([[12, 13, 14, 15],\n",
       "       [16, 17, 18, 19],\n",
       "       [20, 21, 22, 23]])"
      ]
     },
     "execution_count": 22,
     "metadata": {},
     "output_type": "execute_result"
    }
   ],
   "source": [
    "y"
   ]
  },
  {
   "cell_type": "code",
   "execution_count": 23,
   "id": "21aa553c",
   "metadata": {},
   "outputs": [
    {
     "data": {
      "text/plain": [
       "array([[False, False, False, False],\n",
       "       [ True,  True,  True,  True],\n",
       "       [ True,  True,  True,  True]])"
      ]
     },
     "execution_count": 23,
     "metadata": {},
     "output_type": "execute_result"
    }
   ],
   "source": [
    "y>15"
   ]
  },
  {
   "cell_type": "code",
   "execution_count": 24,
   "id": "2c07310d",
   "metadata": {},
   "outputs": [
    {
     "data": {
      "text/plain": [
       "array([16, 17, 18, 19, 20, 21, 22, 23])"
      ]
     },
     "execution_count": 24,
     "metadata": {},
     "output_type": "execute_result"
    }
   ],
   "source": [
    "y[y>15]"
   ]
  },
  {
   "cell_type": "code",
   "execution_count": 25,
   "id": "6b3bb519",
   "metadata": {},
   "outputs": [
    {
     "data": {
      "text/plain": [
       "array([[ 0,  1,  2,  3],\n",
       "       [ 4,  5,  6,  7],\n",
       "       [ 8,  9, 10, 11]])"
      ]
     },
     "execution_count": 25,
     "metadata": {},
     "output_type": "execute_result"
    }
   ],
   "source": [
    "x"
   ]
  },
  {
   "cell_type": "code",
   "execution_count": 27,
   "id": "0d27c466",
   "metadata": {},
   "outputs": [
    {
     "data": {
      "text/plain": [
       "array([[ True, False,  True, False],\n",
       "       [ True, False,  True, False],\n",
       "       [ True, False,  True, False]])"
      ]
     },
     "execution_count": 27,
     "metadata": {},
     "output_type": "execute_result"
    }
   ],
   "source": [
    "x%2==0"
   ]
  },
  {
   "cell_type": "code",
   "execution_count": 29,
   "id": "717b0584",
   "metadata": {},
   "outputs": [
    {
     "data": {
      "text/plain": [
       "array([[ 0,  2],\n",
       "       [ 4,  6],\n",
       "       [ 8, 10]])"
      ]
     },
     "execution_count": 29,
     "metadata": {},
     "output_type": "execute_result"
    }
   ],
   "source": [
    "x[x%2==0].reshape(3,2)"
   ]
  },
  {
   "cell_type": "markdown",
   "id": "2f35f91c",
   "metadata": {},
   "source": [
    "# Random:- print any random Value\n"
   ]
  },
  {
   "cell_type": "code",
   "execution_count": 34,
   "id": "f507e4a8",
   "metadata": {},
   "outputs": [
    {
     "data": {
      "text/plain": [
       "array([[41.1482219 , 38.40150264, 26.8154014 ],\n",
       "       [14.69245952,  6.96793988, 16.24703546],\n",
       "       [92.64693778, 94.45869359, 35.14310331]])"
      ]
     },
     "execution_count": 34,
     "metadata": {},
     "output_type": "execute_result"
    }
   ],
   "source": [
    "t=np.random.random((3,3))*100\n",
    "t"
   ]
  },
  {
   "cell_type": "markdown",
   "id": "55f41f23",
   "metadata": {},
   "source": [
    "# Round:-"
   ]
  },
  {
   "cell_type": "raw",
   "id": "caeff888",
   "metadata": {},
   "source": [
    "Round provide adject Value "
   ]
  },
  {
   "cell_type": "code",
   "execution_count": 36,
   "id": "7b4f918e",
   "metadata": {},
   "outputs": [
    {
     "data": {
      "text/plain": [
       "array([[41., 38., 27.],\n",
       "       [15.,  7., 16.],\n",
       "       [93., 94., 35.]])"
      ]
     },
     "execution_count": 36,
     "metadata": {},
     "output_type": "execute_result"
    }
   ],
   "source": [
    "t=np.round(t)\n",
    "t"
   ]
  },
  {
   "cell_type": "code",
   "execution_count": 39,
   "id": "14a82c8c",
   "metadata": {},
   "outputs": [
    {
     "data": {
      "text/plain": [
       "array([[41, 38, 27],\n",
       "       [15,  7, 16],\n",
       "       [93, 94, 35]])"
      ]
     },
     "execution_count": 39,
     "metadata": {},
     "output_type": "execute_result"
    }
   ],
   "source": [
    "t=np.array(t,dtype=int)\n",
    "t"
   ]
  },
  {
   "cell_type": "markdown",
   "id": "a0a4b3d2",
   "metadata": {},
   "source": [
    "# MAX:-"
   ]
  },
  {
   "cell_type": "code",
   "execution_count": 40,
   "id": "9b944d19",
   "metadata": {},
   "outputs": [
    {
     "data": {
      "text/plain": [
       "94"
      ]
     },
     "execution_count": 40,
     "metadata": {},
     "output_type": "execute_result"
    }
   ],
   "source": [
    "t.max()"
   ]
  },
  {
   "cell_type": "markdown",
   "id": "caea07a3",
   "metadata": {},
   "source": [
    "# Axis:-"
   ]
  },
  {
   "cell_type": "raw",
   "id": "3ffb7c25",
   "metadata": {},
   "source": [
    "axis =0--->col\n",
    "axis =1--->row"
   ]
  },
  {
   "cell_type": "code",
   "execution_count": 45,
   "id": "7b736bc0",
   "metadata": {},
   "outputs": [
    {
     "data": {
      "text/plain": [
       "array([93, 94, 35])"
      ]
     },
     "execution_count": 45,
     "metadata": {},
     "output_type": "execute_result"
    }
   ],
   "source": [
    "t.max(axis=0)"
   ]
  },
  {
   "cell_type": "code",
   "execution_count": 46,
   "id": "47b62092",
   "metadata": {},
   "outputs": [
    {
     "data": {
      "text/plain": [
       "array([41, 16, 94])"
      ]
     },
     "execution_count": 46,
     "metadata": {},
     "output_type": "execute_result"
    }
   ],
   "source": [
    "t.max(axis=1)"
   ]
  },
  {
   "cell_type": "markdown",
   "id": "6ef7abd6",
   "metadata": {},
   "source": [
    "# Sum:-"
   ]
  },
  {
   "cell_type": "code",
   "execution_count": 43,
   "id": "ca54e2fb",
   "metadata": {},
   "outputs": [
    {
     "data": {
      "text/plain": [
       "366"
      ]
     },
     "execution_count": 43,
     "metadata": {},
     "output_type": "execute_result"
    }
   ],
   "source": [
    "t.sum()"
   ]
  },
  {
   "cell_type": "code",
   "execution_count": 47,
   "id": "67cb425b",
   "metadata": {},
   "outputs": [
    {
     "data": {
      "text/plain": [
       "array([149, 139,  78])"
      ]
     },
     "execution_count": 47,
     "metadata": {},
     "output_type": "execute_result"
    }
   ],
   "source": [
    "t.sum(axis=0)"
   ]
  },
  {
   "cell_type": "code",
   "execution_count": 48,
   "id": "5862a889",
   "metadata": {},
   "outputs": [
    {
     "data": {
      "text/plain": [
       "array([106,  38, 222])"
      ]
     },
     "execution_count": 48,
     "metadata": {},
     "output_type": "execute_result"
    }
   ],
   "source": [
    "t.sum(axis=1)"
   ]
  },
  {
   "cell_type": "markdown",
   "id": "43368e4d",
   "metadata": {},
   "source": [
    "# multiply/Produuct :-"
   ]
  },
  {
   "cell_type": "code",
   "execution_count": 53,
   "id": "96503de5",
   "metadata": {},
   "outputs": [
    {
     "data": {
      "text/plain": [
       "-1991181760"
      ]
     },
     "execution_count": 53,
     "metadata": {},
     "output_type": "execute_result"
    }
   ],
   "source": [
    "np.prod(t)"
   ]
  },
  {
   "cell_type": "code",
   "execution_count": 54,
   "id": "2e20f33c",
   "metadata": {},
   "outputs": [
    {
     "data": {
      "text/plain": [
       "array([57195, 25004, 15120])"
      ]
     },
     "execution_count": 54,
     "metadata": {},
     "output_type": "execute_result"
    }
   ],
   "source": [
    "np.prod(t,axis=0)"
   ]
  },
  {
   "cell_type": "code",
   "execution_count": 55,
   "id": "ab590f4e",
   "metadata": {},
   "outputs": [
    {
     "data": {
      "text/plain": [
       "array([ 42066,   1680, 305970])"
      ]
     },
     "execution_count": 55,
     "metadata": {},
     "output_type": "execute_result"
    }
   ],
   "source": [
    "np.prod(t,axis=1)"
   ]
  },
  {
   "cell_type": "markdown",
   "id": "0cf85a52",
   "metadata": {},
   "source": [
    "# Statstics Methods :-"
   ]
  },
  {
   "cell_type": "raw",
   "id": "c1408a37",
   "metadata": {},
   "source": [
    "1)Mean\n",
    "2)Mode\n",
    "3)Median\n",
    "4)Var\n",
    "5)Std\n",
    "6)max\n",
    "7)min"
   ]
  },
  {
   "cell_type": "code",
   "execution_count": 56,
   "id": "cec84b91",
   "metadata": {},
   "outputs": [
    {
     "data": {
      "text/plain": [
       "40.666666666666664"
      ]
     },
     "execution_count": 56,
     "metadata": {},
     "output_type": "execute_result"
    }
   ],
   "source": [
    "np.mean(t)"
   ]
  },
  {
   "cell_type": "code",
   "execution_count": 58,
   "id": "8159625f",
   "metadata": {},
   "outputs": [
    {
     "data": {
      "text/plain": [
       "35.0"
      ]
     },
     "execution_count": 58,
     "metadata": {},
     "output_type": "execute_result"
    }
   ],
   "source": [
    "np.median(t)"
   ]
  },
  {
   "cell_type": "code",
   "execution_count": 59,
   "id": "dfb0010b",
   "metadata": {},
   "outputs": [
    {
     "data": {
      "text/plain": [
       "912.2222222222222"
      ]
     },
     "execution_count": 59,
     "metadata": {},
     "output_type": "execute_result"
    }
   ],
   "source": [
    "np.var(t)"
   ]
  },
  {
   "cell_type": "code",
   "execution_count": 60,
   "id": "81ee6684",
   "metadata": {},
   "outputs": [
    {
     "data": {
      "text/plain": [
       "30.203016773531452"
      ]
     },
     "execution_count": 60,
     "metadata": {},
     "output_type": "execute_result"
    }
   ],
   "source": [
    "np.std(t)"
   ]
  },
  {
   "cell_type": "markdown",
   "id": "c83cd8d4",
   "metadata": {},
   "source": [
    "# Trignometric :-"
   ]
  },
  {
   "cell_type": "code",
   "execution_count": 61,
   "id": "370a61e2",
   "metadata": {},
   "outputs": [
    {
     "data": {
      "text/plain": [
       "array([[-0.15862267,  0.29636858,  0.95637593],\n",
       "       [ 0.65028784,  0.6569866 , -0.28790332],\n",
       "       [-0.94828214, -0.24525199, -0.42818267]])"
      ]
     },
     "execution_count": 61,
     "metadata": {},
     "output_type": "execute_result"
    }
   ],
   "source": [
    "np.sin(t)"
   ]
  },
  {
   "cell_type": "code",
   "execution_count": 62,
   "id": "ff6c9de6",
   "metadata": {},
   "outputs": [
    {
     "data": {
      "text/plain": [
       "array([[-0.98733928,  0.95507364, -0.29213881],\n",
       "       [-0.75968791,  0.75390225, -0.95765948],\n",
       "       [ 0.3174287 ,  0.96945937, -0.90369221]])"
      ]
     },
     "execution_count": 62,
     "metadata": {},
     "output_type": "execute_result"
    }
   ],
   "source": [
    "np.cos(t)"
   ]
  },
  {
   "cell_type": "markdown",
   "id": "e92e83cb",
   "metadata": {},
   "source": [
    "# Floor and Ceil :-"
   ]
  },
  {
   "cell_type": "code",
   "execution_count": 64,
   "id": "410a181e",
   "metadata": {},
   "outputs": [
    {
     "data": {
      "text/plain": [
       "array([[ 8.75149212, 53.49702427, 15.34264505],\n",
       "       [77.64214706, 68.39444686, 56.80636375]])"
      ]
     },
     "execution_count": 64,
     "metadata": {},
     "output_type": "execute_result"
    }
   ],
   "source": [
    "q=np.random.random((2,3))*100\n",
    "q"
   ]
  },
  {
   "cell_type": "code",
   "execution_count": 66,
   "id": "5c186b40",
   "metadata": {},
   "outputs": [
    {
     "data": {
      "text/plain": [
       "array([[ 8., 53., 15.],\n",
       "       [77., 68., 56.]])"
      ]
     },
     "execution_count": 66,
     "metadata": {},
     "output_type": "execute_result"
    }
   ],
   "source": [
    "np.floor(q)"
   ]
  },
  {
   "cell_type": "code",
   "execution_count": 68,
   "id": "984efe81",
   "metadata": {},
   "outputs": [
    {
     "data": {
      "text/plain": [
       "array([[ 9., 54., 16.],\n",
       "       [78., 69., 57.]])"
      ]
     },
     "execution_count": 68,
     "metadata": {},
     "output_type": "execute_result"
    }
   ],
   "source": [
    "np.ceil(q)"
   ]
  },
  {
   "cell_type": "markdown",
   "id": "2137cf5c",
   "metadata": {},
   "source": [
    "Change Row TO Column And column to row"
   ]
  },
  {
   "cell_type": "code",
   "execution_count": 71,
   "id": "c69083f7",
   "metadata": {
    "scrolled": true
   },
   "outputs": [
    {
     "data": {
      "text/plain": [
       "array([[41, 38, 27],\n",
       "       [15,  7, 16],\n",
       "       [93, 94, 35]])"
      ]
     },
     "execution_count": 71,
     "metadata": {},
     "output_type": "execute_result"
    }
   ],
   "source": [
    "t"
   ]
  },
  {
   "cell_type": "code",
   "execution_count": 72,
   "id": "b99b08a8",
   "metadata": {},
   "outputs": [
    {
     "data": {
      "text/plain": [
       "array([[41, 15, 93],\n",
       "       [38,  7, 94],\n",
       "       [27, 16, 35]])"
      ]
     },
     "execution_count": 72,
     "metadata": {},
     "output_type": "execute_result"
    }
   ],
   "source": [
    "t.T"
   ]
  },
  {
   "cell_type": "code",
   "execution_count": null,
   "id": "b8bc4051",
   "metadata": {},
   "outputs": [],
   "source": []
  }
 ],
 "metadata": {
  "kernelspec": {
   "display_name": "Python 3 (ipykernel)",
   "language": "python",
   "name": "python3"
  },
  "language_info": {
   "codemirror_mode": {
    "name": "ipython",
    "version": 3
   },
   "file_extension": ".py",
   "mimetype": "text/x-python",
   "name": "python",
   "nbconvert_exporter": "python",
   "pygments_lexer": "ipython3",
   "version": "3.9.13"
  }
 },
 "nbformat": 4,
 "nbformat_minor": 5
}
